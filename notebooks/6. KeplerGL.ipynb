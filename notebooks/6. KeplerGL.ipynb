{
 "cells": [
  {
   "cell_type": "markdown",
   "id": "4435acea",
   "metadata": {},
   "source": [
    "<div style=\"display: flex; font-size: 14px\"><div>Visualizing geospatial data with Python</div><div style=\"margin-left: auto;\">Open Visualization Collaborator Summit Madrid 2022 - OpenJS Foundation</div></div>\n",
    "\n",
    "# KeplerGL"
   ]
  },
  {
   "cell_type": "markdown",
   "id": "a27a70e3",
   "metadata": {},
   "source": [
    "## Create a map\n",
    "\n",
    "https://docs.kepler.gl/docs/keplergl-jupyter"
   ]
  },
  {
   "cell_type": "code",
   "execution_count": null,
   "id": "037c39d0",
   "metadata": {},
   "outputs": [],
   "source": [
    "from keplergl import KeplerGl\n",
    "import geopandas as gpd"
   ]
  },
  {
   "cell_type": "code",
   "execution_count": null,
   "id": "5bd1efea",
   "metadata": {},
   "outputs": [],
   "source": [
    "map_1 = KeplerGl()\n",
    "map_1"
   ]
  },
  {
   "cell_type": "code",
   "execution_count": null,
   "id": "03320332",
   "metadata": {},
   "outputs": [],
   "source": [
    "country_gdf = gpd.read_file('http://eric.clst.org/assets/wiki/uploads/Stuff/gz_2010_us_040_00_500k.json')"
   ]
  },
  {
   "cell_type": "code",
   "execution_count": null,
   "id": "fb1777f5",
   "metadata": {},
   "outputs": [],
   "source": [
    "map_1.add_data(data=country_gdf, name=\"state\")"
   ]
  },
  {
   "cell_type": "code",
   "execution_count": null,
   "id": "1d234cd2",
   "metadata": {},
   "outputs": [],
   "source": [
    "map_1.save_to_html(file_name='census_us.html')"
   ]
  }
 ],
 "metadata": {
  "kernelspec": {
   "display_name": "Python 3 (ipykernel)",
   "language": "python",
   "name": "python3"
  },
  "language_info": {
   "codemirror_mode": {
    "name": "ipython",
    "version": 3
   },
   "file_extension": ".py",
   "mimetype": "text/x-python",
   "name": "python",
   "nbconvert_exporter": "python",
   "pygments_lexer": "ipython3",
   "version": "3.8.10"
  }
 },
 "nbformat": 4,
 "nbformat_minor": 5
}
