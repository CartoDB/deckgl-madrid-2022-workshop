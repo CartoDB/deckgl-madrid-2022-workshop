{
 "cells": [
  {
   "cell_type": "markdown",
   "id": "2cbead40",
   "metadata": {},
   "source": [
    "<div style=\"display: flex; font-size: 14px\"><div>Visualizing geospatial data with Python</div><div style=\"margin-left: auto;\">Open Visualization Collaborator Summit Madrid 2022 - OpenJS Foundation</div></div>\n",
    "\n",
    "# Folium"
   ]
  },
  {
   "cell_type": "markdown",
   "id": "53c28bf1",
   "metadata": {},
   "source": [
    "## Plot polygons and markers\n",
    "\n",
    "https://geopandas.org/en/stable/gallery/polygon_plotting_with_folium.html"
   ]
  },
  {
   "cell_type": "code",
   "execution_count": null,
   "id": "bc391f8d",
   "metadata": {},
   "outputs": [],
   "source": [
    "import folium\n",
    "import geopandas as gpd"
   ]
  },
  {
   "cell_type": "code",
   "execution_count": null,
   "id": "f25aafec",
   "metadata": {},
   "outputs": [],
   "source": [
    "path = gpd.datasets.get_path('nybb')\n",
    "gdf = gpd.read_file(path)\n",
    "gdf.head()"
   ]
  },
  {
   "cell_type": "code",
   "execution_count": null,
   "id": "ed952731",
   "metadata": {},
   "outputs": [],
   "source": [
    "gdf = gdf.to_crs(epsg=4326)"
   ]
  },
  {
   "cell_type": "code",
   "execution_count": null,
   "id": "a64044eb",
   "metadata": {},
   "outputs": [],
   "source": [
    "m = folium.Map(location=[40.70, -73.94], zoom_start=10, tiles='CartoDB positron')\n",
    "m"
   ]
  },
  {
   "cell_type": "code",
   "execution_count": null,
   "id": "46401735",
   "metadata": {
    "scrolled": false
   },
   "outputs": [],
   "source": [
    "for _, r in gdf.iterrows():\n",
    "    # Without simplifying the representation of each borough,\n",
    "    # the map might not be displayed\n",
    "    sim_geo = gpd.GeoSeries(r['geometry']).simplify(tolerance=0.001)\n",
    "    geo_j = sim_geo.to_json()\n",
    "    geo_j = folium.GeoJson(data=geo_j,\n",
    "                           style_function=lambda x: {'fillColor': 'orange'})\n",
    "    folium.Popup(r['BoroName']).add_to(geo_j)\n",
    "    geo_j.add_to(m)\n",
    "m"
   ]
  },
  {
   "cell_type": "code",
   "execution_count": null,
   "id": "f55b49f0",
   "metadata": {},
   "outputs": [],
   "source": [
    "# Project to NAD83 projected crs\n",
    "gdf = gdf.to_crs(epsg=2263)\n",
    "\n",
    "# Access the centroid attribute of each polygon\n",
    "gdf['centroid'] = gdf.centroid"
   ]
  },
  {
   "cell_type": "code",
   "execution_count": null,
   "id": "c01db5d1",
   "metadata": {},
   "outputs": [],
   "source": [
    "# Project to WGS84 geographic crs\n",
    "\n",
    "# geometry (active) column\n",
    "gdf = gdf.to_crs(epsg=4326)\n",
    "\n",
    "# Centroid column\n",
    "gdf['centroid'] = gdf['centroid'].to_crs(epsg=4326)\n",
    "\n",
    "gdf.head()"
   ]
  },
  {
   "cell_type": "code",
   "execution_count": null,
   "id": "67013fc6",
   "metadata": {},
   "outputs": [],
   "source": [
    "for _, r in gdf.iterrows():\n",
    "    lat = r['centroid'].y\n",
    "    lon = r['centroid'].x\n",
    "    folium.Marker(location=[lat, lon],\n",
    "                  popup='length: {} <br> area: {}'.format(r['Shape_Leng'], r['Shape_Area'])).add_to(m)\n",
    "\n",
    "m"
   ]
  }
 ],
 "metadata": {
  "kernelspec": {
   "display_name": "Python 3 (ipykernel)",
   "language": "python",
   "name": "python3"
  },
  "language_info": {
   "codemirror_mode": {
    "name": "ipython",
    "version": 3
   },
   "file_extension": ".py",
   "mimetype": "text/x-python",
   "name": "python",
   "nbconvert_exporter": "python",
   "pygments_lexer": "ipython3",
   "version": "3.8.10"
  }
 },
 "nbformat": 4,
 "nbformat_minor": 5
}
