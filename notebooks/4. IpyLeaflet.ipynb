{
 "cells": [
  {
   "cell_type": "markdown",
   "id": "da947226",
   "metadata": {},
   "source": [
    "<div style=\"display: flex; font-size: 14px\"><div>Visualizing geospatial data with Python</div><div style=\"margin-left: auto;\">Open Visualization Collaborator Summit Madrid 2022 - OpenJS Foundation</div></div>\n",
    "\n",
    "# IpyLeaflet"
   ]
  },
  {
   "cell_type": "markdown",
   "id": "92adfb14",
   "metadata": {},
   "source": [
    "## Plot polygons and markers\n",
    "\n",
    "Inspired by https://geopandas.org/en/stable/gallery/polygon_plotting_with_folium.html"
   ]
  },
  {
   "cell_type": "code",
   "execution_count": null,
   "id": "9a99e105",
   "metadata": {},
   "outputs": [],
   "source": [
    "import ipyleaflet\n",
    "import geopandas as gpd"
   ]
  },
  {
   "cell_type": "code",
   "execution_count": null,
   "id": "de423eea",
   "metadata": {},
   "outputs": [],
   "source": [
    "path = gpd.datasets.get_path('nybb')\n",
    "gdf = gpd.read_file(path)\n",
    "gdf.head()"
   ]
  },
  {
   "cell_type": "code",
   "execution_count": null,
   "id": "71573c58",
   "metadata": {},
   "outputs": [],
   "source": [
    "gdf = gdf.to_crs(epsg=4326)"
   ]
  },
  {
   "cell_type": "code",
   "execution_count": null,
   "id": "e910d626",
   "metadata": {},
   "outputs": [],
   "source": [
    "basemap = ipyleaflet.basemap_to_tiles(ipyleaflet.basemaps.CartoDB.Positron)\n",
    "center = (40.70, -73.94)\n",
    "zoom = 10"
   ]
  },
  {
   "cell_type": "code",
   "execution_count": null,
   "id": "dbe4aec5",
   "metadata": {
    "scrolled": false
   },
   "outputs": [],
   "source": [
    "m = ipyleaflet.Map(basemap=basemap, center=center, zoom=zoom)\n",
    "m"
   ]
  },
  {
   "cell_type": "code",
   "execution_count": null,
   "id": "7cbf0911",
   "metadata": {},
   "outputs": [],
   "source": [
    "polygons = ipyleaflet.GeoData(geo_dataframe = gdf,\n",
    "   style={'strokeColor': '#0000FF', 'fillColor': '#FFA500', 'weight': 3},\n",
    "   hover_style={'fillColor': 'red' , 'fillOpacity': 0.2},\n",
    "   name='Polygons')"
   ]
  },
  {
   "cell_type": "code",
   "execution_count": null,
   "id": "8301b0ad",
   "metadata": {},
   "outputs": [],
   "source": [
    "m = ipyleaflet.Map(basemap=basemap, center=center, zoom=zoom)\n",
    "m.add_layer(polygons)\n",
    "m.add_control(ipyleaflet.LayersControl())\n",
    "m"
   ]
  },
  {
   "cell_type": "code",
   "execution_count": null,
   "id": "f332df85",
   "metadata": {},
   "outputs": [],
   "source": [
    "# Project to NAD83 projected crs\n",
    "gdf = gdf.to_crs(epsg=2263)\n",
    "\n",
    "# Access the centroid attribute of each polygon\n",
    "gdf['centroid'] = gdf.centroid"
   ]
  },
  {
   "cell_type": "code",
   "execution_count": null,
   "id": "071e3a13",
   "metadata": {},
   "outputs": [],
   "source": [
    "# Project to WGS84 geographic crs\n",
    "\n",
    "# geometry (active) column\n",
    "gdf = gdf.to_crs(epsg=4326)\n",
    "\n",
    "# Centroid column\n",
    "gdf['centroid'] = gdf['centroid'].to_crs(epsg=4326)\n",
    "\n",
    "gdf.head()"
   ]
  },
  {
   "cell_type": "code",
   "execution_count": null,
   "id": "2487247a",
   "metadata": {},
   "outputs": [],
   "source": [
    "m = ipyleaflet.Map(basemap=basemap, center=center, zoom=zoom)\n",
    "m.add_layer(polygons)\n",
    "\n",
    "for i, r in gdf.iterrows():\n",
    "    lat = r['centroid'].y\n",
    "    lon = r['centroid'].x\n",
    "    m.add_layer(ipyleaflet.Marker(location=(lat, lon)))\n",
    "\n",
    "m"
   ]
  }
 ],
 "metadata": {
  "kernelspec": {
   "display_name": "Python 3 (ipykernel)",
   "language": "python",
   "name": "python3"
  },
  "language_info": {
   "codemirror_mode": {
    "name": "ipython",
    "version": 3
   },
   "file_extension": ".py",
   "mimetype": "text/x-python",
   "name": "python",
   "nbconvert_exporter": "python",
   "pygments_lexer": "ipython3",
   "version": "3.8.10"
  }
 },
 "nbformat": 4,
 "nbformat_minor": 5
}
