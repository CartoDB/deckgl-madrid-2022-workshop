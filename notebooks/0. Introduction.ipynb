{
 "cells": [
  {
   "cell_type": "markdown",
   "id": "f164d635",
   "metadata": {},
   "source": [
    "<div style=\"display: flex; font-size: 14px\"><div>Visualizing geospatial data with Python</div><div style=\"margin-left: auto;\">Open Visualization Collaborator Summit Madrid 2022 - OpenJS Foundation</div></div>\n",
    "\n",
    "# Introduction\n",
    "\n",
    "In this workshop we will explore some tools to render geospatial data in a Jupyter Notebook."
   ]
  },
  {
   "attachments": {},
   "cell_type": "markdown",
   "id": "0e8a593c",
   "metadata": {},
   "source": [
    "## Setup\n",
    "\n",
    "It requires Python3 (+3.7)\n",
    "\n",
    "**Prepare the virtual environment**\n",
    "\n",
    "```\n",
    "python3 -m venv env\n",
    "source env/bin/activate\n",
    "pip install -r requirements.txt\n",
    "```\n",
    "\n",
    "**Configure Jupyter**\n",
    "\n",
    "```\n",
    "jupyter nbextension install --sys-prefix --symlink --overwrite --py pydeck\n",
    "jupyter nbextension enable --sys-prefix --py pydeck\n",
    "```"
   ]
  },
  {
   "cell_type": "markdown",
   "id": "ec905ec8",
   "metadata": {},
   "source": [
    "## Basic example"
   ]
  },
  {
   "cell_type": "code",
   "execution_count": null,
   "id": "5b3ccf48",
   "metadata": {},
   "outputs": [],
   "source": [
    "import geopandas as gpd"
   ]
  },
  {
   "cell_type": "code",
   "execution_count": null,
   "id": "60efe180",
   "metadata": {},
   "outputs": [],
   "source": [
    "gdf = gpd.read_file('sample.geojson')"
   ]
  },
  {
   "cell_type": "code",
   "execution_count": null,
   "id": "6dd923d6",
   "metadata": {},
   "outputs": [],
   "source": [
    "# Explore gdf\n",
    "type(gdf)\n",
    "type(gdf.geometry)\n",
    "gdf.head()\n",
    "gdf.geometry[0]"
   ]
  },
  {
   "cell_type": "code",
   "execution_count": null,
   "id": "2a967f36",
   "metadata": {},
   "outputs": [],
   "source": [
    "cities = gpd.read_file(gpd.datasets.get_path('naturalearth_cities'))\n",
    "cities.head()"
   ]
  },
  {
   "cell_type": "code",
   "execution_count": null,
   "id": "f24a3132",
   "metadata": {},
   "outputs": [],
   "source": [
    "cities.geometry[0]"
   ]
  },
  {
   "cell_type": "code",
   "execution_count": null,
   "id": "5bd5c7f3",
   "metadata": {},
   "outputs": [],
   "source": [
    "world = gpd.read_file(gpd.datasets.get_path('naturalearth_lowres'))\n",
    "world.head()"
   ]
  },
  {
   "cell_type": "code",
   "execution_count": null,
   "id": "1baa6285",
   "metadata": {},
   "outputs": [],
   "source": [
    "world.geometry[4]"
   ]
  }
 ],
 "metadata": {
  "kernelspec": {
   "display_name": "Python 3 (ipykernel)",
   "language": "python",
   "name": "python3"
  },
  "language_info": {
   "codemirror_mode": {
    "name": "ipython",
    "version": 3
   },
   "file_extension": ".py",
   "mimetype": "text/x-python",
   "name": "python",
   "nbconvert_exporter": "python",
   "pygments_lexer": "ipython3",
   "version": "3.8.10"
  }
 },
 "nbformat": 4,
 "nbformat_minor": 5
}
