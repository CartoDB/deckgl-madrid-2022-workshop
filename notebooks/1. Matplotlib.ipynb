{
 "cells": [
  {
   "cell_type": "markdown",
   "id": "a2a7731e",
   "metadata": {},
   "source": [
    "<div style=\"display: flex; font-size: 14px\"><div>Visualizing geospatial data with Python</div><div style=\"margin-left: auto;\">Open Visualization Collaborator Summit Madrid 2022 - OpenJS Foundation</div></div>\n",
    "\n",
    "# Matplotlib"
   ]
  },
  {
   "cell_type": "markdown",
   "id": "330ebc1c",
   "metadata": {},
   "source": [
    "## Create a map\n",
    "\n",
    "https://geopandas.org/en/stable/docs/user_guide/mapping.html"
   ]
  },
  {
   "cell_type": "code",
   "execution_count": null,
   "id": "18afe3aa",
   "metadata": {},
   "outputs": [],
   "source": [
    "import geopandas"
   ]
  },
  {
   "cell_type": "code",
   "execution_count": null,
   "id": "7496d942",
   "metadata": {},
   "outputs": [],
   "source": [
    "world = geopandas.read_file(geopandas.datasets.get_path('naturalearth_lowres'))\n",
    "cities = geopandas.read_file(geopandas.datasets.get_path('naturalearth_cities'))"
   ]
  },
  {
   "cell_type": "code",
   "execution_count": null,
   "id": "793a05e6",
   "metadata": {},
   "outputs": [],
   "source": [
    "world.head()"
   ]
  },
  {
   "cell_type": "code",
   "execution_count": null,
   "id": "46a40903",
   "metadata": {},
   "outputs": [],
   "source": [
    "world.plot()"
   ]
  },
  {
   "cell_type": "code",
   "execution_count": null,
   "id": "10a8dea9",
   "metadata": {},
   "outputs": [],
   "source": [
    "cities.head()"
   ]
  },
  {
   "cell_type": "code",
   "execution_count": null,
   "id": "076d68ed",
   "metadata": {},
   "outputs": [],
   "source": [
    "cities.plot()"
   ]
  },
  {
   "cell_type": "code",
   "execution_count": null,
   "id": "cf4a63f7",
   "metadata": {},
   "outputs": [],
   "source": [
    "import matplotlib.pyplot as plt\n",
    "\n",
    "fig, ax = plt.subplots(1, 1)\n",
    "\n",
    "world.plot(column='pop_est',\n",
    "           ax=ax,\n",
    "           legend=True,\n",
    "           legend_kwds={'label': \"Population by Country\",\n",
    "                        'orientation': \"horizontal\"})"
   ]
  },
  {
   "cell_type": "code",
   "execution_count": null,
   "id": "bc294ecb",
   "metadata": {},
   "outputs": [],
   "source": [
    "base = world.plot(color='white', edgecolor='black')\n",
    "\n",
    "cities.plot(ax=base, marker='o', color='red', markersize=5)"
   ]
  },
  {
   "cell_type": "markdown",
   "id": "4cdf2ce8",
   "metadata": {},
   "source": [
    "## Adding basemap\n",
    "\n",
    "https://geopandas.org/en/stable/gallery/plotting_basemap_background.html"
   ]
  },
  {
   "cell_type": "code",
   "execution_count": null,
   "id": "d7d3f3fc",
   "metadata": {},
   "outputs": [],
   "source": [
    "import geopandas\n",
    "import contextily as cx"
   ]
  },
  {
   "cell_type": "code",
   "execution_count": null,
   "id": "4d49ebff",
   "metadata": {},
   "outputs": [],
   "source": [
    "gdf = geopandas.read_file(geopandas.datasets.get_path('nybb'))\n",
    "gdf.head()"
   ]
  },
  {
   "cell_type": "code",
   "execution_count": null,
   "id": "6be3896e",
   "metadata": {},
   "outputs": [],
   "source": [
    "ax = gdf.plot(figsize=(10, 10), alpha=0.5, edgecolor='k')"
   ]
  },
  {
   "cell_type": "code",
   "execution_count": null,
   "id": "a822678d",
   "metadata": {},
   "outputs": [],
   "source": [
    "gdf.crs"
   ]
  },
  {
   "cell_type": "code",
   "execution_count": null,
   "id": "8372fc94",
   "metadata": {},
   "outputs": [],
   "source": [
    "gdf_wm = gdf.to_crs(epsg=3857)"
   ]
  },
  {
   "cell_type": "code",
   "execution_count": null,
   "id": "b8a32151",
   "metadata": {},
   "outputs": [],
   "source": [
    "gdf_wm.crs"
   ]
  },
  {
   "cell_type": "code",
   "execution_count": null,
   "id": "bda9e23d",
   "metadata": {},
   "outputs": [],
   "source": [
    "ax = gdf_wm.plot(figsize=(10, 10), alpha=0.5, edgecolor='k')\n",
    "cx.add_basemap(ax)"
   ]
  },
  {
   "cell_type": "code",
   "execution_count": null,
   "id": "ee835423",
   "metadata": {},
   "outputs": [],
   "source": [
    "ax = gdf_wm.plot(figsize=(10, 10), alpha=0.5, edgecolor='k')\n",
    "cx.add_basemap(ax, source=cx.providers.CartoDB.Voyager)"
   ]
  }
 ],
 "metadata": {
  "kernelspec": {
   "display_name": "Python 3 (ipykernel)",
   "language": "python",
   "name": "python3"
  },
  "language_info": {
   "codemirror_mode": {
    "name": "ipython",
    "version": 3
   },
   "file_extension": ".py",
   "mimetype": "text/x-python",
   "name": "python",
   "nbconvert_exporter": "python",
   "pygments_lexer": "ipython3",
   "version": "3.8.10"
  }
 },
 "nbformat": 4,
 "nbformat_minor": 5
}
