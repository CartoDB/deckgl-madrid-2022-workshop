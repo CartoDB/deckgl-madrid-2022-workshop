{
 "cells": [
  {
   "cell_type": "markdown",
   "id": "ce4d490e",
   "metadata": {},
   "source": [
    "<div style=\"display: flex; font-size: 14px\"><div>Visualizing geospatial data with Python</div><div style=\"margin-left: auto;\">Open Visualization Collaborator Summit Madrid 2022 - OpenJS Foundation</div></div>\n",
    "\n",
    "# Pydeck"
   ]
  },
  {
   "cell_type": "markdown",
   "id": "2a239e0f",
   "metadata": {},
   "source": [
    "## Create a map\n",
    "\n",
    "https://deckgl.readthedocs.io/en/latest/layer.html"
   ]
  },
  {
   "cell_type": "code",
   "execution_count": null,
   "id": "4fa4244e",
   "metadata": {},
   "outputs": [],
   "source": [
    "import pydeck as pdk\n",
    "import geopandas as gpd"
   ]
  },
  {
   "cell_type": "code",
   "execution_count": null,
   "id": "59bca04c",
   "metadata": {},
   "outputs": [],
   "source": [
    "UK_ACCIDENTS_DATA = 'https://raw.githubusercontent.com/visgl/deck.gl-data/master/examples/3d-heatmap/heatmap-data.csv'\n",
    "\n",
    "layer = pdk.Layer(\n",
    "    'HexagonLayer',  # `type` positional argument is here\n",
    "    UK_ACCIDENTS_DATA,\n",
    "    get_position=['lng', 'lat'],\n",
    "    auto_highlight=True,\n",
    "    elevation_scale=50,\n",
    "    pickable=True,\n",
    "    elevation_range=[0, 3000],\n",
    "    extruded=True,\n",
    "    coverage=1)\n",
    "\n",
    "# Set the viewport location\n",
    "view_state = pdk.ViewState(\n",
    "    longitude=-1.415,\n",
    "    latitude=52.2323,\n",
    "    zoom=6,\n",
    "    min_zoom=5,\n",
    "    max_zoom=15,\n",
    "    pitch=40.5,\n",
    "    bearing=-27.36)\n",
    "\n",
    "# Combined all of it and render a viewport\n",
    "r = pdk.Deck(layers=[layer], initial_view_state=view_state)\n",
    "r.to_html('hexagon-example.html')"
   ]
  },
  {
   "cell_type": "code",
   "execution_count": null,
   "id": "603d7115",
   "metadata": {},
   "outputs": [],
   "source": [
    "DATA_URL = \"https://raw.githubusercontent.com/visgl/deck.gl-data/master/examples/geojson/vancouver-blocks.json\"\n",
    "LAND_COVER = [[[-123.0, 49.196], [-123.0, 49.324], [-123.306, 49.324], [-123.306, 49.196]]]\n",
    "\n",
    "INITIAL_VIEW_STATE = pdk.ViewState(\n",
    "  latitude=49.254,\n",
    "  longitude=-123.13,\n",
    "  zoom=11,\n",
    "  max_zoom=16,\n",
    "  pitch=45,\n",
    "  bearing=0\n",
    ")\n",
    "\n",
    "polygon = pdk.Layer(\n",
    "    'PolygonLayer',\n",
    "    LAND_COVER,\n",
    "    stroked=False,\n",
    "    # processes the data as a flat longitude-latitude pair\n",
    "    get_polygon='-',\n",
    "    get_fill_color=[0, 0, 0, 20]\n",
    ")\n",
    "\n",
    "geojson = pdk.Layer(\n",
    "    'GeoJsonLayer',\n",
    "    DATA_URL,\n",
    "    opacity=0.8,\n",
    "    stroked=False,\n",
    "    filled=True,\n",
    "    extruded=True,\n",
    "    wireframe=True,\n",
    "    get_elevation='properties.valuePerSqm / 20',\n",
    "    get_fill_color='[255, 255, properties.growth * 255]',\n",
    "    get_line_color=[255, 255, 255],\n",
    "    pickable=True\n",
    ")\n",
    "\n",
    "pdk.Deck(layers=[polygon, geojson], initial_view_state=INITIAL_VIEW_STATE)"
   ]
  },
  {
   "cell_type": "code",
   "execution_count": null,
   "id": "fdda8618",
   "metadata": {},
   "outputs": [],
   "source": [
    "world = gpd.read_file(gpd.datasets.get_path(\"naturalearth_lowres\"))\n",
    "\n",
    "centroids = gpd.GeoDataFrame()\n",
    "centroids[\"geometry\"] = world.geometry.to_crs(epsg=3857).centroid.to_crs(epsg=4326)\n",
    "centroids[\"name\"] = world.name\n",
    "\n",
    "layers = [\n",
    "    pdk.Layer(\n",
    "        \"GeoJsonLayer\",\n",
    "        data=world,\n",
    "        get_fill_color=[0, 0, 0],\n",
    "    ),\n",
    "    pdk.Layer(\n",
    "        \"TextLayer\",\n",
    "        data=centroids,\n",
    "        get_position=\"geometry.coordinates\",\n",
    "        get_size=16,\n",
    "        get_color=[255, 255, 255],\n",
    "        get_text=\"name\",\n",
    "    ),\n",
    "]\n",
    "\n",
    "pdk.Deck(layers, map_provider=None)"
   ]
  }
 ],
 "metadata": {
  "kernelspec": {
   "display_name": "Python 3 (ipykernel)",
   "language": "python",
   "name": "python3"
  },
  "language_info": {
   "codemirror_mode": {
    "name": "ipython",
    "version": 3
   },
   "file_extension": ".py",
   "mimetype": "text/x-python",
   "name": "python",
   "nbconvert_exporter": "python",
   "pygments_lexer": "ipython3",
   "version": "3.8.10"
  }
 },
 "nbformat": 4,
 "nbformat_minor": 5
}
