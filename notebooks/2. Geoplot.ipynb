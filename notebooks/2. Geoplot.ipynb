{
 "cells": [
  {
   "cell_type": "markdown",
   "id": "14a44473",
   "metadata": {},
   "source": [
    "<div style=\"display: flex; font-size: 14px\"><div>Visualizing geospatial data with Python</div><div style=\"margin-left: auto;\">Open Visualization Collaborator Summit Madrid 2022 - OpenJS Foundation</div></div>\n",
    "\n",
    "# Geoplot"
   ]
  },
  {
   "cell_type": "markdown",
   "id": "572d5e3c",
   "metadata": {},
   "source": [
    "## Create a map\n",
    "\n",
    "https://residentmario.github.io/geoplot/quickstart/quickstart.html"
   ]
  },
  {
   "cell_type": "code",
   "execution_count": null,
   "id": "7f7eb41f",
   "metadata": {},
   "outputs": [],
   "source": [
    "import geoplot as gplt\n",
    "import geopandas as gpd"
   ]
  },
  {
   "cell_type": "code",
   "execution_count": null,
   "id": "9d5f1487",
   "metadata": {},
   "outputs": [],
   "source": [
    "usa_cities = gpd.read_file(gplt.datasets.get_path('usa_cities'))\n",
    "contiguous_usa = gpd.read_file(gplt.datasets.get_path('contiguous_usa'))"
   ]
  },
  {
   "cell_type": "code",
   "execution_count": null,
   "id": "b484bf04",
   "metadata": {},
   "outputs": [],
   "source": [
    "continental_usa_cities = usa_cities.query('STATE not in [\"HI\", \"AK\", \"PR\"]')"
   ]
  },
  {
   "cell_type": "code",
   "execution_count": null,
   "id": "39b289cb",
   "metadata": {},
   "outputs": [],
   "source": [
    "continental_usa_cities.plot()"
   ]
  },
  {
   "cell_type": "code",
   "execution_count": null,
   "id": "bb5d04ac",
   "metadata": {},
   "outputs": [],
   "source": [
    "gplt.pointplot(continental_usa_cities)"
   ]
  },
  {
   "cell_type": "code",
   "execution_count": null,
   "id": "dbc4bdae",
   "metadata": {},
   "outputs": [],
   "source": [
    "gplt.polyplot(contiguous_usa)"
   ]
  },
  {
   "cell_type": "code",
   "execution_count": null,
   "id": "ed87e800",
   "metadata": {},
   "outputs": [],
   "source": [
    "ax = gplt.polyplot(contiguous_usa)\n",
    "gplt.pointplot(continental_usa_cities, ax=ax)"
   ]
  },
  {
   "cell_type": "code",
   "execution_count": null,
   "id": "1db423a9",
   "metadata": {},
   "outputs": [],
   "source": [
    "# Unfortunately, this code kills the kenrel :S\n",
    "# ax = gplt.polyplot(contiguous_usa, projection=gplt.crs.AlbersEqualArea())\n",
    "# gplt.pointplot(continental_usa_cities, ax=ax)"
   ]
  },
  {
   "cell_type": "code",
   "execution_count": null,
   "id": "3399da0b",
   "metadata": {},
   "outputs": [],
   "source": [
    "ax = gplt.polyplot(\n",
    "    contiguous_usa,\n",
    "    edgecolor='white', facecolor='lightgray',\n",
    "    figsize=(12, 8)\n",
    ")\n",
    "gplt.pointplot(\n",
    "    continental_usa_cities, ax=ax, hue='ELEV_IN_FT', cmap='Blues',\n",
    "    scheme='quantiles',\n",
    "    scale='ELEV_IN_FT', limits=(1, 10),\n",
    "    legend=True, legend_var='scale',\n",
    "    legend_kwargs={'frameon': False},\n",
    "    legend_values=[-110, 1750, 3600, 5500, 7400],\n",
    "    legend_labels=['-110 feet', '1750 feet', '3600 feet', '5500 feet', '7400 feet']\n",
    ")\n",
    "ax.set_title('Cities in the Continental United States by Elevation', fontsize=16)"
   ]
  }
 ],
 "metadata": {
  "kernelspec": {
   "display_name": "Python 3 (ipykernel)",
   "language": "python",
   "name": "python3"
  },
  "language_info": {
   "codemirror_mode": {
    "name": "ipython",
    "version": 3
   },
   "file_extension": ".py",
   "mimetype": "text/x-python",
   "name": "python",
   "nbconvert_exporter": "python",
   "pygments_lexer": "ipython3",
   "version": "3.8.10"
  }
 },
 "nbformat": 4,
 "nbformat_minor": 5
}
