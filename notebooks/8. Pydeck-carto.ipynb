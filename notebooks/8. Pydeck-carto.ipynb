{
 "cells": [
  {
   "cell_type": "markdown",
   "id": "6214be90",
   "metadata": {},
   "source": [
    "<div style=\"display: flex; font-size: 14px\"><div>Visualizing geospatial data with Python</div><div style=\"margin-left: auto;\">Open Visualization Collaborator Summit Madrid 2022 - OpenJS Foundation</div></div>\n",
    "\n",
    "# Pydeck-carto"
   ]
  },
  {
   "cell_type": "markdown",
   "id": "6e188ca9",
   "metadata": {},
   "source": [
    "## Create a map\n",
    "\n",
    "https://pydeck-carto.readthedocs.io/en/latest/"
   ]
  },
  {
   "cell_type": "code",
   "execution_count": null,
   "id": "52318108",
   "metadata": {},
   "outputs": [],
   "source": [
    "import pydeck as pdk\n",
    "from carto_auth import CartoAuth\n",
    "from pydeck_carto import register_carto_layer, get_layer_credentials, get_error_notifier\n",
    "from pydeck_carto.layer import MapType, CartoConnection, GeoColumnType\n",
    "from pydeck_carto.styles import color_bins, color_categories, color_continuous"
   ]
  },
  {
   "cell_type": "code",
   "execution_count": null,
   "id": "f688e5d7",
   "metadata": {},
   "outputs": [],
   "source": [
    "# Authentication with CARTO\n",
    "carto_auth = CartoAuth.from_oauth()\n",
    "\n",
    "# Register CartoLayer in pydeck\n",
    "register_carto_layer()"
   ]
  },
  {
   "cell_type": "code",
   "execution_count": null,
   "id": "95cb9fa0",
   "metadata": {},
   "outputs": [],
   "source": [
    "# Render CartoLayer in pydeck\n",
    "layer = pdk.Layer(\n",
    "    \"CartoLayer\",\n",
    "    data=\"SELECT geom, name FROM carto-demo-data.demo_tables.airports\",\n",
    "    type_=MapType.QUERY,\n",
    "    connection=CartoConnection.CARTO_DW,\n",
    "    credentials=get_layer_credentials(carto_auth),\n",
    "    get_fill_color=[238, 77, 90],\n",
    "    point_radius_min_pixels=2.5,\n",
    "    pickable=True,\n",
    "    on_data_error=get_error_notifier(),\n",
    ")\n",
    "\n",
    "view_state = pdk.ViewState(latitude=0, longitude=0, zoom=1)\n",
    "\n",
    "pdk.Deck(layer, map_style=pdk.map_styles.ROAD, initial_view_state=view_state)"
   ]
  },
  {
   "cell_type": "code",
   "execution_count": null,
   "id": "3c447732",
   "metadata": {},
   "outputs": [],
   "source": [
    "layer = pdk.Layer(\n",
    "    \"CartoLayer\",\n",
    "    data=\"carto-demo-data.demo_tilesets\"\n",
    "    \".derived_spatialfeatures_usa_h3res8_v1_yearly_v2_tileset\",\n",
    "    type_=MapType.TILESET,\n",
    "    connection=CartoConnection.CARTO_DW,\n",
    "    credentials=get_layer_credentials(carto_auth),\n",
    "    get_fill_color=[200, 0, 80],\n",
    "    pickable=True,\n",
    "    on_data_error=get_error_notifier(),\n",
    ")\n",
    "\n",
    "view_state = pdk.ViewState(latitude=44, longitude=-122, zoom=3)\n",
    "\n",
    "pdk.Deck(layer, map_style=pdk.map_styles.ROAD, initial_view_state=view_state)"
   ]
  },
  {
   "cell_type": "code",
   "execution_count": null,
   "id": "eb2fc0b5",
   "metadata": {},
   "outputs": [],
   "source": [
    "layer = pdk.Layer(\n",
    "    \"CartoLayer\",\n",
    "    data=\"select * from carto-demo-data.demo_tables\"\n",
    "    \".derived_spatialfeatures_usa_quadbin15_v1_yearly_v2\",\n",
    "    type_=MapType.QUERY,\n",
    "    connection=CartoConnection.CARTO_DW,\n",
    "    credentials=get_layer_credentials(carto_auth),\n",
    "    geo_column=GeoColumnType.QUADBIN,\n",
    "    get_fill_color=[200, 0, 80],\n",
    "    pickable=True,\n",
    "    on_data_error=get_error_notifier(),\n",
    ")\n",
    "\n",
    "view_state = pdk.ViewState(latitude=44, longitude=-122, zoom=3)\n",
    "\n",
    "pdk.Deck(layer, map_style=pdk.map_styles.ROAD, initial_view_state=view_state)"
   ]
  },
  {
   "cell_type": "markdown",
   "id": "d1b8f293",
   "metadata": {},
   "source": [
    "## Color bins style"
   ]
  },
  {
   "cell_type": "code",
   "execution_count": null,
   "id": "d1ee9db3",
   "metadata": {
    "scrolled": false
   },
   "outputs": [],
   "source": [
    "layer = pdk.Layer(\n",
    "    \"CartoLayer\",\n",
    "    data=\"SELECT geom, pct_higher_ed FROM cartobq.public_account.higher_edu_by_county\",\n",
    "    type_=MapType.QUERY,\n",
    "    connection=CartoConnection.CARTO_DW,\n",
    "    credentials=get_layer_credentials(carto_auth),\n",
    "    get_fill_color=color_bins(\"pct_higher_ed\", [0, 20, 30, 40, 50, 60, 70], \"PinkYl\"),\n",
    "    get_line_color=[0, 0, 0, 100],\n",
    "    line_width_min_pixels=0.5,\n",
    "    pickable=True,\n",
    "    on_data_error=get_error_notifier(),\n",
    ")\n",
    "\n",
    "view_state = pdk.ViewState(latitude=38, longitude=-98, zoom=3)\n",
    "\n",
    "pdk.Deck(layer, map_style=pdk.map_styles.ROAD, initial_view_state=view_state)"
   ]
  },
  {
   "cell_type": "markdown",
   "id": "62b3945d",
   "metadata": {},
   "source": [
    "## Color categories style"
   ]
  },
  {
   "cell_type": "code",
   "execution_count": null,
   "id": "a3d014d6",
   "metadata": {},
   "outputs": [],
   "source": [
    "layer = pdk.Layer(\n",
    "    \"CartoLayer\",\n",
    "    data=\"SELECT geom, landuse_type FROM `cartobq.public_account.wburg_parcels`\",\n",
    "    type_=MapType.QUERY,\n",
    "    connection=CartoConnection.CARTO_DW,\n",
    "    credentials=get_layer_credentials(carto_auth),\n",
    "    get_fill_color=color_categories(\n",
    "        \"landuse_type\",\n",
    "        [\n",
    "            \"Multi-Family Walk-Up Buildings\",\n",
    "            \"Multi-Family Elevator Buildings\",\n",
    "            \"Mixed Residential And Commercial Buildings\",\n",
    "            \"Parking Facilities\",\n",
    "            \"1 and 2 Family Buildings\",\n",
    "            \"Commercial and Office Buildings\",\n",
    "            \"Vacant Land\",\n",
    "            \"Public Facilities and Institutions\",\n",
    "            \"Transportation and Utility\",\n",
    "            \"Open Space and Outdoor Recreation\",\n",
    "            \"Industrial and Manufacturing\",\n",
    "        ],\n",
    "        \"Bold\",\n",
    "    ),\n",
    "    get_line_color=[0, 0, 0, 100],\n",
    "    line_width_min_pixels=0.5,\n",
    "    pickable=True,\n",
    "    on_data_error=get_error_notifier(),\n",
    ")\n",
    "\n",
    "view_state = pdk.ViewState(latitude=40.715, longitude=-73.959, zoom=14)\n",
    "\n",
    "pdk.Deck(layer, map_style=pdk.map_styles.LIGHT, initial_view_state=view_state)"
   ]
  },
  {
   "cell_type": "markdown",
   "id": "07f0e076",
   "metadata": {},
   "source": [
    "## Color continuous style"
   ]
  },
  {
   "cell_type": "code",
   "execution_count": null,
   "id": "420960d1",
   "metadata": {},
   "outputs": [],
   "source": [
    "layer = pdk.Layer(\n",
    "    \"CartoLayer\",\n",
    "    data=\"SELECT geom, value FROM cartobq.public_account.temps\",\n",
    "    type_=MapType.QUERY,\n",
    "    connection=CartoConnection.CARTO_DW,\n",
    "    credentials=get_layer_credentials(carto_auth),\n",
    "    get_fill_color=color_continuous(\"value\", [70, 75, 80, 85, 90, 95, 100], \"BluYl\"),\n",
    "    point_radius_min_pixels=2.5,\n",
    "    pickable=True,\n",
    "    on_data_error=get_error_notifier(),\n",
    ")\n",
    "\n",
    "view_state = pdk.ViewState(latitude=34, longitude=-98, zoom=3)\n",
    "\n",
    "pdk.Deck(layer, map_style=pdk.map_styles.ROAD, initial_view_state=view_state)"
   ]
  },
  {
   "cell_type": "markdown",
   "id": "298f7b0b",
   "metadata": {},
   "source": [
    "## Error management"
   ]
  },
  {
   "cell_type": "code",
   "execution_count": null,
   "id": "e067a6d3",
   "metadata": {},
   "outputs": [],
   "source": [
    "layer = pdk.Layer(\n",
    "    \"CartoLayer\",\n",
    "    data=\"SELECT geomx, name FROM cartobq.public_account.populated_places\",\n",
    "    type_=pdk.types.String(\"query\"),\n",
    "    connection=pdk.types.String(\"carto_dw\"),\n",
    "    credentials=get_layer_credentials(carto_auth),\n",
    "    get_fill_color=[238, 77, 90],\n",
    "    point_radius_min_pixels=2.5,\n",
    "    on_data_error=get_error_notifier(),\n",
    ")\n",
    "\n",
    "view_state = pdk.ViewState(latitude=0, longitude=0, zoom=1)\n",
    "\n",
    "pdk.Deck(layer, map_style=pdk.map_styles.ROAD, initial_view_state=view_state)"
   ]
  }
 ],
 "metadata": {
  "kernelspec": {
   "display_name": "Python 3 (ipykernel)",
   "language": "python",
   "name": "python3"
  },
  "language_info": {
   "codemirror_mode": {
    "name": "ipython",
    "version": 3
   },
   "file_extension": ".py",
   "mimetype": "text/x-python",
   "name": "python",
   "nbconvert_exporter": "python",
   "pygments_lexer": "ipython3",
   "version": "3.8.10"
  }
 },
 "nbformat": 4,
 "nbformat_minor": 5
}
